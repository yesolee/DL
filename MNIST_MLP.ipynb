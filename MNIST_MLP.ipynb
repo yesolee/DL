{
  "nbformat": 4,
  "nbformat_minor": 0,
  "metadata": {
    "colab": {
      "provenance": [],
      "authorship_tag": "ABX9TyMRLWNJZaJGMRh8KqTUj4Zt",
      "include_colab_link": true
    },
    "kernelspec": {
      "name": "python3",
      "display_name": "Python 3"
    },
    "language_info": {
      "name": "python"
    }
  },
  "cells": [
    {
      "cell_type": "markdown",
      "metadata": {
        "id": "view-in-github",
        "colab_type": "text"
      },
      "source": [
        "<a href=\"https://colab.research.google.com/github/yesolee/Study_DL/blob/main/MNIST_MLP.ipynb\" target=\"_parent\"><img src=\"https://colab.research.google.com/assets/colab-badge.svg\" alt=\"Open In Colab\"/></a>"
      ]
    },
    {
      "cell_type": "code",
      "execution_count": 8,
      "metadata": {
        "colab": {
          "base_uri": "https://localhost:8080/"
        },
        "id": "_QzTYpmHoZ_s",
        "outputId": "464acee4-5657-4d81-9672-8d40c019c1e5"
      },
      "outputs": [
        {
          "output_type": "stream",
          "name": "stdout",
          "text": [
            "Downloading http://yann.lecun.com/exdb/mnist/train-images-idx3-ubyte.gz\n",
            "Failed to download (trying next):\n",
            "HTTP Error 403: Forbidden\n",
            "\n",
            "Downloading https://ossci-datasets.s3.amazonaws.com/mnist/train-images-idx3-ubyte.gz\n",
            "Downloading https://ossci-datasets.s3.amazonaws.com/mnist/train-images-idx3-ubyte.gz to MNIST_data/MNIST/raw/train-images-idx3-ubyte.gz\n"
          ]
        },
        {
          "output_type": "stream",
          "name": "stderr",
          "text": [
            "100%|██████████| 9.91M/9.91M [00:00<00:00, 40.6MB/s]\n"
          ]
        },
        {
          "output_type": "stream",
          "name": "stdout",
          "text": [
            "Extracting MNIST_data/MNIST/raw/train-images-idx3-ubyte.gz to MNIST_data/MNIST/raw\n",
            "\n",
            "Downloading http://yann.lecun.com/exdb/mnist/train-labels-idx1-ubyte.gz\n",
            "Failed to download (trying next):\n",
            "HTTP Error 403: Forbidden\n",
            "\n",
            "Downloading https://ossci-datasets.s3.amazonaws.com/mnist/train-labels-idx1-ubyte.gz\n",
            "Downloading https://ossci-datasets.s3.amazonaws.com/mnist/train-labels-idx1-ubyte.gz to MNIST_data/MNIST/raw/train-labels-idx1-ubyte.gz\n"
          ]
        },
        {
          "output_type": "stream",
          "name": "stderr",
          "text": [
            "100%|██████████| 28.9k/28.9k [00:00<00:00, 1.20MB/s]\n"
          ]
        },
        {
          "output_type": "stream",
          "name": "stdout",
          "text": [
            "Extracting MNIST_data/MNIST/raw/train-labels-idx1-ubyte.gz to MNIST_data/MNIST/raw\n",
            "\n",
            "Downloading http://yann.lecun.com/exdb/mnist/t10k-images-idx3-ubyte.gz\n",
            "Failed to download (trying next):\n",
            "HTTP Error 403: Forbidden\n",
            "\n",
            "Downloading https://ossci-datasets.s3.amazonaws.com/mnist/t10k-images-idx3-ubyte.gz\n",
            "Downloading https://ossci-datasets.s3.amazonaws.com/mnist/t10k-images-idx3-ubyte.gz to MNIST_data/MNIST/raw/t10k-images-idx3-ubyte.gz\n"
          ]
        },
        {
          "output_type": "stream",
          "name": "stderr",
          "text": [
            "100%|██████████| 1.65M/1.65M [00:00<00:00, 10.4MB/s]\n"
          ]
        },
        {
          "output_type": "stream",
          "name": "stdout",
          "text": [
            "Extracting MNIST_data/MNIST/raw/t10k-images-idx3-ubyte.gz to MNIST_data/MNIST/raw\n",
            "\n",
            "Downloading http://yann.lecun.com/exdb/mnist/t10k-labels-idx1-ubyte.gz\n",
            "Failed to download (trying next):\n",
            "HTTP Error 403: Forbidden\n",
            "\n",
            "Downloading https://ossci-datasets.s3.amazonaws.com/mnist/t10k-labels-idx1-ubyte.gz\n",
            "Downloading https://ossci-datasets.s3.amazonaws.com/mnist/t10k-labels-idx1-ubyte.gz to MNIST_data/MNIST/raw/t10k-labels-idx1-ubyte.gz\n"
          ]
        },
        {
          "output_type": "stream",
          "name": "stderr",
          "text": [
            "100%|██████████| 4.54k/4.54k [00:00<00:00, 3.51MB/s]"
          ]
        },
        {
          "output_type": "stream",
          "name": "stdout",
          "text": [
            "Extracting MNIST_data/MNIST/raw/t10k-labels-idx1-ubyte.gz to MNIST_data/MNIST/raw\n",
            "\n",
            "Dataset MNIST\n",
            "    Number of datapoints: 60000\n",
            "    Root location: MNIST_data/\n",
            "    Split: Train\n",
            "    StandardTransform\n",
            "Transform: ToTensor()\n",
            "Dataset MNIST\n",
            "    Number of datapoints: 10000\n",
            "    Root location: MNIST_data/\n",
            "    Split: Test\n",
            "    StandardTransform\n",
            "Transform: ToTensor()\n"
          ]
        },
        {
          "output_type": "stream",
          "name": "stderr",
          "text": [
            "\n"
          ]
        }
      ],
      "source": [
        "import torch\n",
        "from torch import nn\n",
        "from torchvision import datasets\n",
        "from torchvision import transforms\n",
        "from torch.utils.data import Dataset, DataLoader, random_split\n",
        "import numpy as np\n",
        "\n",
        "train_dataset = datasets.MNIST(root=\"MNIST_data/\", train=True,  # 트레인\n",
        "                               transform=transforms.ToTensor(),  # 0~255까지의 값을 0~1 사이의 값으로 변환\n",
        "                               download=True)\n",
        "test_dataset = datasets.MNIST(root=\"MNIST_data/\", train=False,  # 테스트\n",
        "                              transform=transforms.ToTensor(),  # 수정된 transform\n",
        "                              download=True)\n",
        "\n",
        "print(train_dataset)\n",
        "print(test_dataset)\n"
      ]
    },
    {
      "cell_type": "code",
      "source": [
        "train_dataset_size= int(len(train_dataset)*0.85)\n",
        "validation_dataset_size = int(len(train_dataset)*0.15)\n",
        "\n",
        "train_dataset, validation_dataset = random_split(train_dataset, [train_dataset_size, validation_dataset_size])\n",
        "print(len(train_dataset),len(validation_dataset), len(test_dataset) )"
      ],
      "metadata": {
        "colab": {
          "base_uri": "https://localhost:8080/"
        },
        "id": "56lFoV79AUIA",
        "outputId": "85a15403-a46f-4ec3-b3b3-eb1ce76c7570"
      },
      "execution_count": 10,
      "outputs": [
        {
          "output_type": "stream",
          "name": "stdout",
          "text": [
            "51000 9000 10000\n"
          ]
        }
      ]
    },
    {
      "cell_type": "code",
      "source": [
        "# 모델 생성\n",
        "class MyDeepLearningModel(nn.Module):\n",
        "  def __init__(self):\n",
        "    super().__init__()\n",
        "    self.flatten = nn.Flatten()\n",
        "    self.fc1= nn.Linear(784,256)\n",
        "    self.relu = nn.ReLU()\n",
        "    self.dropout = nn.Dropout(0.3)\n",
        "    self.fc2 = nn.Linear(256,10)\n",
        "\n",
        "  def forward(self, data):\n",
        "    data = self.flatten(data) # 입력층\n",
        "    data = self.fc1(data) # 은닉층\n",
        "    data = self.relu(data) # ReLU (비선형함수)\n",
        "    data= self.dropout(data) # Dropout (과적합 방지)\n",
        "    logits = self.fc2(data) # 출력층\n",
        "    return logits\n",
        "\n",
        "BATCH_SIZE = 32\n",
        "\n",
        "train_dataset_loadrt = DataLoader(dataset = train_dataset,\n",
        "                                  batch_size=BATCH_SIZE,\n",
        "                                  shuffle=True)\n",
        "\n",
        "validation_dataset_loader = DataLoader(dataset=validation_dataset,\n",
        "                                        batch_size=BATCH_SIZE,\n",
        "                                        shuffle=True)\n",
        "\n",
        "test_data_loader = DataLoader(dataset=test_dataset,\n",
        "                              batch_size=BATCH_SIZE,\n",
        "                              shuffle=True)\n",
        "\n",
        "model = MyDeepLearningModel()\n",
        "loss_function = nn.CrossEntropyLoss()\n",
        "optimizer = torch.optim.SGD(model.parameters(), lr= 1e-2)"
      ],
      "metadata": {
        "id": "PfmZDchaAQiA"
      },
      "execution_count": 12,
      "outputs": []
    },
    {
      "cell_type": "code",
      "source": [
        "# 학습 함수\n",
        "def model_train(dataloader, model, loss_function, optimizer):\n",
        "  model.train()\n",
        "\n",
        "  train_loss_sum = train_correct = train_total = 0\n",
        "  total_train_batch = len(dataloader)\n",
        "\n",
        "  for images, labels in dataloader:\n",
        "    x_train = images.view(-1,28,28) # 28*28 2차원을 1차원으로 변환\n",
        "    y_train = labels\n",
        "\n",
        "    outputs = model(x_train)\n",
        "    loss = loss_function(outputs, y_train)\n",
        "\n",
        "    optimizer.zero_grad()\n",
        "    loss.backward()\n",
        "    optimizer.step()\n",
        "\n",
        "    train_loss_sum += loss.item()\n",
        "\n",
        "    train_total += y_train.size(0)\n",
        "    train_correct += ((torch.argmax(outputs, 1)== y_train)).sum().item()\n",
        "\n",
        "  train_avg_loss = train_loss_sum / total_train_batch\n",
        "  train_avg_accuracy = 100*train_correct / train_total\n",
        "\n",
        "  return (train_avg_loss, train_avg_accuracy)\n",
        "\n"
      ],
      "metadata": {
        "id": "hAp0xSFtCMyK"
      },
      "execution_count": 13,
      "outputs": []
    },
    {
      "cell_type": "code",
      "source": [
        "# 검증 함수\n",
        "def model_evaluate(dataloader, model, loss_function, optimizer):\n",
        "\n",
        "    model.eval()  # 신경망을 검증 모드로 전환\n",
        "\n",
        "    with torch.no_grad():  # 미분하지 않겠다는 의미\n",
        "        val_loss_sum = val_correct = val_total = 0\n",
        "        total_val_batch = len(dataloader)\n",
        "\n",
        "        for image, labels in dataloader:  # 이미지와 정답\n",
        "            x_val = image.view(-1, 28*28)\n",
        "            y_val = labels\n",
        "\n",
        "            outputs = model(x_val)\n",
        "            loss = loss_function(outputs, y_val)\n",
        "            val_loss_sum += loss.item()\n",
        "            val_total += y_val.size(0)\n",
        "            val_correct += (torch.argmax(outputs, 1) == y_val).sum().item()\n",
        "\n",
        "        # 루프 외부에서 평균 계산\n",
        "        val_avg_loss = val_loss_sum / total_val_batch  # 검증 데이터 평균 오차 계산\n",
        "        val_avg_accuracy = 100 * val_correct / val_total\n",
        "    return (val_avg_loss, val_avg_accuracy)\n",
        "\n"
      ],
      "metadata": {
        "id": "EyCvJJSFqzBu"
      },
      "execution_count": 19,
      "outputs": []
    },
    {
      "cell_type": "markdown",
      "source": [],
      "metadata": {
        "id": "5FQYVY3ODfZT"
      }
    },
    {
      "cell_type": "code",
      "source": [
        "train_loss_list = []\n",
        "train_accuracy_list = []\n",
        "\n",
        "val_loss_list = []\n",
        "val_accuracy_list = []\n",
        "\n",
        "EPOCHS = 20\n",
        "\n",
        "for epoch in range(EPOCHS):\n",
        "\n",
        "  train_avg_loss, train_avg_accuracy = model_train(train_dataset_loadrt, model, loss_function, optimizer)\n",
        "  train_loss_list.append(train_avg_loss)\n",
        "  train_accuracy_list.append(train_avg_accuracy)\n",
        "\n",
        "  val_avg_loss, val_avg_accuracy = model_evaluate(validation_dataset_loader, model, loss_function, optimizer)\n",
        "  val_loss_list.append(val_avg_loss)\n",
        "  val_accuracy_list.append(val_avg_accuracy)"
      ],
      "metadata": {
        "id": "mWlFYjvH_3uE"
      },
      "execution_count": 22,
      "outputs": []
    },
    {
      "cell_type": "code",
      "source": [
        "def model_test(dataloader, model):\n",
        "\n",
        "  model.eval()\n",
        "\n",
        "  with torch.no_grad():\n",
        "\n",
        "    test_loss_sum = test_correct = test_total = 0\n",
        "\n",
        "    total_test_batch = len(dataloader)\n",
        "\n",
        "    for images, labels in dataloader:\n",
        "\n",
        "      x_test = images.view(-1,28*28)\n",
        "      y_test = labels\n",
        "\n",
        "      outputs = model(x_test)\n",
        "      loss = loss_function(outputs, y_test)\n",
        "\n",
        "      test_loss_sum += loss.item()\n",
        "\n",
        "      test_total += y_test.size(0)\n",
        "      test_correct += ((torch.argmax(outputs, 1)==y_test)).sum().item()\n",
        "\n",
        "    test_avg_loss = test_loss_sum / total_test_batch\n",
        "    test_avg_accuracy = 100*test_correct / test_total\n",
        "\n",
        "    print('accuracy:',test_avg_accuracy)\n",
        "    print('loss:', test_avg_loss)\n",
        "\n",
        "model_test(test_data_loader, model)\n",
        ""
      ],
      "metadata": {
        "colab": {
          "base_uri": "https://localhost:8080/"
        },
        "id": "26vFzSI5FSdR",
        "outputId": "cae4b7af-437b-448c-993c-1429beb6f5f2"
      },
      "execution_count": 30,
      "outputs": [
        {
          "output_type": "stream",
          "name": "stdout",
          "text": [
            "accuracy: 96.48\n",
            "loss: 0.11780369881921397\n"
          ]
        }
      ]
    },
    {
      "cell_type": "code",
      "source": [
        "import matplotlib.pyplot as plt\n",
        "\n",
        "plt.figure(figsize=(10,5))\n",
        "\n",
        "plt.subplot(1,2,1)\n",
        "plt.title('Loss Trend')\n",
        "plt.xlabel('epochs')\n",
        "plt.ylabel('loss')\n",
        "plt.grid()\n",
        "plt.plot(train_loss_list, label='train')\n",
        "plt.plot(val_loss_list, label='validation')\n",
        "plt.legend()\n",
        "\n",
        "plt.subplot(1,2,2)\n",
        "plt.title('Accuracy Trend')\n",
        "plt.xlabel('epochs')\n",
        "plt.ylabel('accuracy')\n",
        "plt.grid()\n",
        "plt.plot(train_accuracy_list, label='train')\n",
        "plt.plot(val_accuracy_list, label='validation')\n",
        "plt.legend()\n",
        "\n",
        "plt.show()\n"
      ],
      "metadata": {
        "colab": {
          "base_uri": "https://localhost:8080/",
          "height": 371
        },
        "id": "SJLhh3JGIWp1",
        "outputId": "bd036353-de72-4d91-953b-459e819ba328"
      },
      "execution_count": 33,
      "outputs": [
        {
          "output_type": "display_data",
          "data": {
            "text/plain": [
              "<Figure size 1000x500 with 2 Axes>"
            ],
            "image/png": "[encoded data removed]"
          },
          "metadata": {}
        }
      ]
    }
  ]
}